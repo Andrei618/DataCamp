{
 "cells": [
  {
   "cell_type": "markdown",
   "metadata": {},
   "source": [
    "# Project. Customer Analytics: Preparing Data for Modeling\n",
    "\n"
   ]
  },
  {
   "cell_type": "markdown",
   "metadata": {},
   "source": [
    "![alt text](images/hr-image-small.png)"
   ]
  },
  {
   "cell_type": "markdown",
   "metadata": {},
   "source": [
    "## Project Instructions"
   ]
  },
  {
   "cell_type": "markdown",
   "metadata": {},
   "source": [
    "The Head Data Scientist at *Training Data Ltd.* has asked you to create a DataFrame called **ds_jobs** that stores the data in **customer_train.csv** much more efficiently. Specifically, they have set the following requirements:\n",
    "\n",
    "- Columns containing categories with only two factors must be stored as Booleans (**bool**).\n",
    "- Columns containing integers only must be stored as 32-bit integers (**int32**).\n",
    "- Columns containing floats must be stored as 16-bit floats (**float16**).\n",
    "- Columns containing nominal categorical data must be stored as the **category** data type.\n",
    "- Columns containing ordinal categorical data must be stored as ordered categories, and not mapped to numerical values, with an order that reflects the natural order of the column.  \n",
    "The DataFrame should be filtered to only contain students with 10 or more years of experience at companies with at least 1000 employees, as their recruiter base is suited to more experienced professionals at enterprise companies.\n",
    "If you call **.info()** or **.memory_usage()** methods on **ds_jobs** and **ds_jobs** after you've preprocessed it, you should notice a substantial decrease in memory usage.\n"
   ]
  },
  {
   "cell_type": "markdown",
   "metadata": {},
   "source": [
    "A common problem when creating models to generate business value from data is that the datasets can be so large that it can take days for the model to generate predictions. Ensuring that your dataset is stored as efficiently as possible is crucial for allowing these models to run on a more reasonable timescale without having to reduce the size of the dataset.\n",
    "\n",
    "You've been hired by a major online data science training provider called Training Data Ltd. to clean up one of their largest customer datasets. This dataset will eventually be used to predict whether their students are looking for a new job or not, information that they will then use to direct them to prospective recruiters.\n",
    "\n",
    "You've been given access to customer_train.csv, which is a subset of their entire customer dataset, so you can create a proof-of-concept of a much more efficient storage solution. The dataset contains anonymized student information, and whether they were looking for a new job or not during training:"
   ]
  },
  {
   "cell_type": "markdown",
   "metadata": {},
   "source": [
    "| Column                | Description                                                        |\n",
    "|-----------------------|--------------------------------------------------------------------|\n",
    "| student_id            | A unique ID for each student.                                      |\n",
    "| city                  | A code for the city the student lives in.                          |\n",
    "| city_development_index| A scaled development index for the city.                           |\n",
    "| gender                | The student's gender.                                              |\n",
    "| relevant_experience   | An indicator of the student's work relevant experience.            |\n",
    "| enrolled_university   | The type of university course enrolled in (if any).                |\n",
    "| education_level       | The student's education level.                                     |\n",
    "| major_discipline      | The educational discipline of the student.                         |\n",
    "| experience            | The student's total work experience (in years).                    |\n",
    "| company_size          | The number of employees at the student's current employer.         |\n",
    "| company_type          | The type of company employing the student.                         |\n",
    "| last_new_job          | The number of years between the student's current and previous jobs.|\n",
    "| training_hours        | The number of hours of training completed.                         |\n",
    "| job_change            | An indicator of whether the student is looking for a new job (1) or not (0). |"
   ]
  },
  {
   "cell_type": "code",
   "execution_count": null,
   "metadata": {},
   "outputs": [
    {
     "name": "stdout",
     "output_type": "stream",
     "text": [
      "<class 'pandas.core.frame.DataFrame'>\n",
      "RangeIndex: 19158 entries, 0 to 19157\n",
      "Data columns (total 14 columns):\n",
      " #   Column                  Non-Null Count  Dtype  \n",
      "---  ------                  --------------  -----  \n",
      " 0   student_id              19158 non-null  int64  \n",
      " 1   city                    19158 non-null  object \n",
      " 2   city_development_index  19158 non-null  float64\n",
      " 3   gender                  14650 non-null  object \n",
      " 4   relevant_experience     19158 non-null  object \n",
      " 5   enrolled_university     18772 non-null  object \n",
      " 6   education_level         18698 non-null  object \n",
      " 7   major_discipline        16345 non-null  object \n",
      " 8   experience              19093 non-null  object \n",
      " 9   company_size            13220 non-null  object \n",
      " 10  company_type            13018 non-null  object \n",
      " 11  last_new_job            18735 non-null  object \n",
      " 12  training_hours          19158 non-null  int64  \n",
      " 13  job_change              19158 non-null  float64\n",
      "dtypes: float64(2), int64(2), object(10)\n",
      "memory usage: 2.0+ MB\n"
     ]
    }
   ],
   "source": [
    "\n",
    "# Import necessary libraries\n",
    "import pandas as pd\n",
    "\n",
    "# Load the dataset\n",
    "ds_jobs = pd.read_csv(\"data/customer_train.csv\")    # Load the dataset\n",
    "\n",
    "# View the dataset\n",
    "# ds_jobs.head()\n",
    "ds_jobs.info()"
   ]
  },
  {
   "cell_type": "code",
   "execution_count": 299,
   "metadata": {},
   "outputs": [],
   "source": [
    "# Create a copy of ds_jobs for transforming\n",
    "ds_jobs_transformed = ds_jobs.copy()\n",
    "\n",
    "# Start coding here. Use as many cells as you like!"
   ]
  },
  {
   "cell_type": "markdown",
   "metadata": {},
   "source": [
    "# 1. Exploratory data analysis"
   ]
  },
  {
   "cell_type": "markdown",
   "metadata": {},
   "source": [
    "### 1.1. How to find the data types and contents of a column"
   ]
  },
  {
   "cell_type": "code",
   "execution_count": 300,
   "metadata": {},
   "outputs": [
    {
     "name": "stdout",
     "output_type": "stream",
     "text": [
      "Boolean columns: ['relevant_experience', 'job_change']\n"
     ]
    }
   ],
   "source": [
    "def find_boolean_columns(df):\n",
    "    boolean_columns = []\n",
    "    for column in df.columns:\n",
    "        if df[column].nunique() == 2:\n",
    "            boolean_columns.append(column)\n",
    "    return boolean_columns\n",
    "\n",
    "# Find boolean columns in ds_jobs_transformed\n",
    "boolean_columns = find_boolean_columns(ds_jobs_transformed)\n",
    "print(\"Boolean columns:\", boolean_columns)"
   ]
  },
  {
   "cell_type": "code",
   "execution_count": 324,
   "metadata": {},
   "outputs": [
    {
     "name": "stdout",
     "output_type": "stream",
     "text": [
      "city\n",
      "city_103    805\n",
      "city_16     211\n",
      "city_114    167\n",
      "city_21     157\n",
      "city_160     72\n",
      "           ... \n",
      "city_81       0\n",
      "city_79       0\n",
      "city_82       0\n",
      "city_8        0\n",
      "city_9        0\n",
      "Name: count, Length: 123, dtype: int64 \n",
      "\n",
      "gender\n",
      "Male      1654\n",
      "Female     145\n",
      "Other       22\n",
      "Name: count, dtype: int64 \n",
      "\n",
      "relevant_experience\n",
      "True    2201\n",
      "Name: count, dtype: int64 \n",
      "\n",
      "enrolled_university\n",
      "no_enrollment       1960\n",
      "Full time course     122\n",
      "Part time course     103\n",
      "Name: count, dtype: int64 \n",
      "\n",
      "education_level\n",
      "Graduate          1243\n",
      "Masters            744\n",
      "Phd                115\n",
      "High School         75\n",
      "Primary School       7\n",
      "Name: count, dtype: int64 \n",
      "\n",
      "major_discipline\n",
      "STEM               1892\n",
      "Humanities           73\n",
      "Business Degree      48\n",
      "Other                35\n",
      "No Major             28\n",
      "Arts                 21\n",
      "Name: count, dtype: int64 \n",
      "\n",
      "experience\n",
      ">20    859\n",
      "10     245\n",
      "15     172\n",
      "11     149\n",
      "14     147\n",
      "16     128\n",
      "12     107\n",
      "13     103\n",
      "17      91\n",
      "19      83\n",
      "18      68\n",
      "20      49\n",
      "1        0\n",
      "nan      0\n",
      "<1       0\n",
      "5        0\n",
      "4        0\n",
      "3        0\n",
      "2        0\n",
      "6        0\n",
      "7        0\n",
      "8        0\n",
      "9        0\n",
      "Name: count, dtype: int64 \n",
      "\n",
      "company_size\n",
      "10000+       1095\n",
      "1000-4999     796\n",
      "5000-9999     310\n",
      "<10             0\n",
      "100-500         0\n",
      "50-99           0\n",
      "10/49           0\n",
      "500-999         0\n",
      "Name: count, dtype: int64 \n",
      "\n",
      "company_type\n",
      "Pvt Ltd                1807\n",
      "Public Sector           228\n",
      "NGO                      87\n",
      "Other                    22\n",
      "Funded Startup            0\n",
      "Early Stage Startup       0\n",
      "Name: count, dtype: int64 \n",
      "\n",
      "last_new_job\n",
      ">4       828\n",
      "1        608\n",
      "2        347\n",
      "4        172\n",
      "3        155\n",
      "never     74\n",
      "Name: count, dtype: int64 \n",
      "\n"
     ]
    }
   ],
   "source": [
    "# EDA to help identify ordinal, nominal, and two-factor categories\n",
    "for col in ds_jobs.select_dtypes(\"object\").columns:\n",
    "    print(ds_jobs_transformed[col].value_counts(), '\\n')"
   ]
  },
  {
   "cell_type": "markdown",
   "metadata": {},
   "source": [
    "# 2. Converting integers, floats, and unordered categories"
   ]
  },
  {
   "cell_type": "markdown",
   "metadata": {},
   "source": [
    "Converting integers, floats, and unordered categories  \n",
    "```py 'relevant_experience', 'job_change'```"
   ]
  },
  {
   "cell_type": "code",
   "execution_count": 301,
   "metadata": {},
   "outputs": [
    {
     "name": "stdout",
     "output_type": "stream",
     "text": [
      "{'student_id': 19158, 'city': 123, 'city_development_index': 93, 'gender': 3, 'relevant_experience': 2, 'enrolled_university': 3, 'education_level': 5, 'major_discipline': 6, 'experience': 22, 'company_size': 8, 'company_type': 6, 'last_new_job': 6, 'training_hours': 241, 'job_change': 2}\n"
     ]
    }
   ],
   "source": [
    "def show_unique_values(df):\n",
    "    unique_values = {column: df[column].nunique() for column in df.columns}\n",
    "    return unique_values\n",
    "\n",
    "# Show number of unique values in ds_jobs_transformed with the names of columns\n",
    "unique_values = show_unique_values(ds_jobs_transformed)\n",
    "print(unique_values)"
   ]
  },
  {
   "cell_type": "code",
   "execution_count": 302,
   "metadata": {},
   "outputs": [],
   "source": [
    "ds_jobs_transformed['relevant_experience'] = ds_jobs_transformed['relevant_experience'].astype('bool')\n",
    "ds_jobs_transformed['job_change'] = ds_jobs_transformed['job_change'].astype('bool')"
   ]
  },
  {
   "cell_type": "markdown",
   "metadata": {},
   "source": [
    "### candidates for   \n",
    "\"category\": a small number of unique values with no natural ordering:  \n",
    "gender, enrolled_university,  major_discipline, last_new_job"
   ]
  },
  {
   "cell_type": "code",
   "execution_count": 304,
   "metadata": {},
   "outputs": [],
   "source": [
    "ds_jobs_transformed[[\n",
    "    \"gender\", \n",
    "    \"enrolled_university\", \n",
    "    \"major_discipline\", \n",
    "    \"last_new_job\",\n",
    "    \"city\",\n",
    "    \"company_type\",\n",
    "    \"company_size\"\n",
    "]] = ds_jobs_transformed[[\n",
    "    \"gender\", \n",
    "    \"enrolled_university\", \n",
    "    \"major_discipline\", \n",
    "    \"last_new_job\",\n",
    "    \"city\",\n",
    "    \"company_type\",\n",
    "    \"company_size\"\n",
    "]].astype('category')"
   ]
  },
  {
   "cell_type": "markdown",
   "metadata": {},
   "source": [
    "### candidates for   \n",
    "\"ordered categories\": containing categorical data with a natural ordering:  \n",
    "education_level:  \n",
    "education_level\n",
    "Graduate          11598\n",
    "Masters            4361\n",
    "High School        2017\n",
    "Phd                 414\n",
    "Primary School      308"
   ]
  },
  {
   "cell_type": "code",
   "execution_count": 305,
   "metadata": {},
   "outputs": [],
   "source": [
    "ds_jobs_transformed['education_level'] = pd.Categorical(ds_jobs_transformed['education_level'], categories=[\n",
    "        \"Primary School\", \n",
    "        \"High School\", \n",
    "        \"Graduate\", \n",
    "        \"Masters\", \n",
    "        \"Phd\"\n",
    "        ], ordered=True)"
   ]
  },
  {
   "cell_type": "markdown",
   "metadata": {},
   "source": [
    "### Columns containing integers only must be stored as 32-bit integers (int32)"
   ]
  },
  {
   "cell_type": "code",
   "execution_count": 306,
   "metadata": {},
   "outputs": [],
   "source": [
    "ds_jobs_transformed[['student_id', 'training_hours']] = \\\n",
    "    ds_jobs_transformed[['student_id', 'training_hours']].astype('int32')"
   ]
  },
  {
   "cell_type": "markdown",
   "metadata": {},
   "source": [
    "### Columns containing floats must be stored as 16-bit floats (float16)"
   ]
  },
  {
   "cell_type": "code",
   "execution_count": 307,
   "metadata": {},
   "outputs": [],
   "source": [
    "ds_jobs_transformed['city_development_index'] = \\\n",
    "    ds_jobs_transformed['city_development_index'].astype('float16')"
   ]
  },
  {
   "cell_type": "markdown",
   "metadata": {},
   "source": [
    "# 3. Converting ordered categories"
   ]
  },
  {
   "cell_type": "markdown",
   "metadata": {},
   "source": [
    "### Creating an ordered list of work experience values"
   ]
  },
  {
   "cell_type": "code",
   "execution_count": 308,
   "metadata": {},
   "outputs": [
    {
     "data": {
      "text/plain": [
       "experience\n",
       ">20    3286\n",
       "5      1430\n",
       "4      1403\n",
       "3      1354\n",
       "6      1216\n",
       "2      1127\n",
       "7      1028\n",
       "10      985\n",
       "9       980\n",
       "8       802\n",
       "15      686\n",
       "11      664\n",
       "14      586\n",
       "1       549\n",
       "<1      522\n",
       "16      508\n",
       "12      494\n",
       "13      399\n",
       "17      342\n",
       "19      304\n",
       "18      280\n",
       "20      148\n",
       "Name: count, dtype: int64"
      ]
     },
     "execution_count": 308,
     "metadata": {},
     "output_type": "execute_result"
    }
   ],
   "source": [
    "ds_jobs_transformed['experience'].value_counts()"
   ]
  },
  {
   "cell_type": "markdown",
   "metadata": {},
   "source": [
    "You could use the .unique() and .sort() methods on the column, then convert to a list and rearrange to ensure <1 and >20 are in the correct position."
   ]
  },
  {
   "cell_type": "code",
   "execution_count": 309,
   "metadata": {},
   "outputs": [
    {
     "name": "stdout",
     "output_type": "stream",
     "text": [
      "['<1', 'nan', '1', '2', '3', '4', '5', '6', '7', '8', '9', '10', '11', '12', '13', '14', '15', '16', '17', '18', '19', '20', '>20']\n"
     ]
    }
   ],
   "source": [
    "import re\n",
    "\n",
    "def custom_sort(value):\n",
    "    if value == '<1':\n",
    "        return -1\n",
    "    elif value == '>20':\n",
    "        return float('inf')\n",
    "    else:\n",
    "        numeric_value = re.sub(r'\\D', '', value)\n",
    "        return int(numeric_value) if numeric_value else 0\n",
    "\n",
    "unique_experience = ds_jobs_transformed['experience'].astype(str).unique()\n",
    "sorted_experience = sorted(unique_experience, key=custom_sort)\n",
    "\n",
    "print(sorted_experience)"
   ]
  },
  {
   "cell_type": "markdown",
   "metadata": {},
   "source": [
    "Create a list of numbers 1-20, map the numbers to strings, and concatenate [\"<1\"] and [\">20\"] to the beginning and end, respectively."
   ]
  },
  {
   "cell_type": "code",
   "execution_count": 310,
   "metadata": {},
   "outputs": [
    {
     "name": "stdout",
     "output_type": "stream",
     "text": [
      "['<1', '1', '2', '3', '4', '5', '6', '7', '8', '9', '10', '11', '12', '13', '14', '15', '16', '17', '18', '19', '20', '>20']\n"
     ]
    }
   ],
   "source": [
    "sorted_experience2 = ['<1'] + [str(i) for i in range(1, 21)] + ['>20']\n",
    "print(sorted_experience2)  "
   ]
  },
  {
   "cell_type": "markdown",
   "metadata": {},
   "source": [
    "Manually"
   ]
  },
  {
   "cell_type": "code",
   "execution_count": 311,
   "metadata": {},
   "outputs": [],
   "source": [
    "sorted_experience = ['nan', '<1', '1', '2', '3', '4', '5', '6', '7', '8', '9', '10', '11', '12', '13', '14', '15', '16', '17', '18', '19', '20', '>20']\n",
    "sorted_enrolled_university = ['no_enrollment', 'Part time course', 'Full time course']\n",
    "sorted_company_size = ['<10', '10/49', '50-99', '100-500', '500-999', '1000-4999', '5000-9999', '10000+']\n",
    "sorted_last_new_job = ['never', '1', '2', '3', '4', '>4']"
   ]
  },
  {
   "cell_type": "markdown",
   "metadata": {},
   "source": [
    "Converting columns into ordered categorical columns"
   ]
  },
  {
   "cell_type": "code",
   "execution_count": 312,
   "metadata": {},
   "outputs": [],
   "source": [
    "from pandas.api.types import CategoricalDtype\n",
    "\n",
    "\n",
    "# Convert 'experience' column to ordered categorical\n",
    "#ds_jobs_transformed['experience'] = pd.Categorical(ds_jobs_transformed['experience'], categories=sorted_experience, ordered=True)\n",
    "# experience\n",
    "experience_dtype = CategoricalDtype(categories=sorted_experience, ordered=True)\n",
    "ds_jobs_transformed['experience'] = ds_jobs_transformed['experience'].astype(experience_dtype)\n",
    "\n",
    "# enrolled_university\n",
    "enrolled_university_dtype = CategoricalDtype(categories=sorted_enrolled_university, ordered=True)   \n",
    "ds_jobs_transformed['enrolled_university'] = ds_jobs_transformed['enrolled_university'].astype(enrolled_university_dtype)   \n",
    "\n",
    "# company_size\n",
    "company_size_dtype = CategoricalDtype(categories=sorted_company_size, ordered=True)\n",
    "ds_jobs_transformed['company_size'] = ds_jobs_transformed['company_size'].astype(company_size_dtype)\n",
    "\n",
    "# last_new_job\n",
    "last_new_job_dtype = CategoricalDtype(categories=sorted_last_new_job, ordered=True)\n",
    "ds_jobs_transformed['last_new_job'] = ds_jobs_transformed['last_new_job'].astype(last_new_job_dtype)\n",
    "\n"
   ]
  },
  {
   "cell_type": "code",
   "execution_count": 313,
   "metadata": {},
   "outputs": [
    {
     "data": {
      "text/plain": [
       "student_id                   int32\n",
       "city                      category\n",
       "city_development_index     float16\n",
       "gender                    category\n",
       "relevant_experience           bool\n",
       "enrolled_university       category\n",
       "education_level           category\n",
       "major_discipline          category\n",
       "experience                category\n",
       "company_size              category\n",
       "company_type              category\n",
       "last_new_job              category\n",
       "training_hours               int32\n",
       "job_change                    bool\n",
       "dtype: object"
      ]
     },
     "execution_count": 313,
     "metadata": {},
     "output_type": "execute_result"
    }
   ],
   "source": [
    "ds_jobs_transformed.dtypes"
   ]
  },
  {
   "cell_type": "markdown",
   "metadata": {},
   "source": [
    "# 4. Filtering on ordered categorical columns"
   ]
  },
  {
   "cell_type": "code",
   "execution_count": 314,
   "metadata": {},
   "outputs": [
    {
     "data": {
      "text/plain": [
       "<bound method IndexOpsMixin.value_counts of 0        >20\n",
       "1         15\n",
       "2          5\n",
       "3         <1\n",
       "4        >20\n",
       "        ... \n",
       "19153     14\n",
       "19154     14\n",
       "19155    >20\n",
       "19156     <1\n",
       "19157      2\n",
       "Name: experience, Length: 19158, dtype: category\n",
       "Categories (23, object): ['nan' < '<1' < '1' < '2' ... '18' < '19' < '20' < '>20']>"
      ]
     },
     "execution_count": 314,
     "metadata": {},
     "output_type": "execute_result"
    }
   ],
   "source": [
    "ds_jobs_transformed['experience'].value_counts"
   ]
  },
  {
   "cell_type": "code",
   "execution_count": 315,
   "metadata": {},
   "outputs": [
    {
     "data": {
      "text/plain": [
       "company_size\n",
       "50-99        3083\n",
       "10000+       2019\n",
       "1000-4999    1328\n",
       "<10          1308\n",
       "500-999       877\n",
       "5000-9999     563\n",
       "100-500         0\n",
       "10/49           0\n",
       "Name: count, dtype: int64"
      ]
     },
     "execution_count": 315,
     "metadata": {},
     "output_type": "execute_result"
    }
   ],
   "source": [
    "ds_jobs_transformed['company_size'].value_counts()"
   ]
  },
  {
   "cell_type": "markdown",
   "metadata": {},
   "source": [
    "Filtering DataFrames on ordered categorical columns"
   ]
  },
  {
   "cell_type": "code",
   "execution_count": 316,
   "metadata": {},
   "outputs": [
    {
     "name": "stdout",
     "output_type": "stream",
     "text": [
      "**** memory_usage:  Index                        132\n",
      "student_id                153264\n",
      "city                      153264\n",
      "city_development_index    153264\n",
      "gender                    153264\n",
      "relevant_experience       153264\n",
      "enrolled_university       153264\n",
      "education_level           153264\n",
      "major_discipline          153264\n",
      "experience                153264\n",
      "company_size              153264\n",
      "company_type              153264\n",
      "last_new_job              153264\n",
      "training_hours            153264\n",
      "job_change                153264\n",
      "dtype: int64\n",
      "** memory_usage:  Index                     17608\n",
      "student_id                 8804\n",
      "city                       7353\n",
      "city_development_index     4402\n",
      "gender                     2333\n",
      "relevant_experience        2201\n",
      "enrolled_university        2333\n",
      "education_level            2413\n",
      "major_discipline           2421\n",
      "experience                 2941\n",
      "company_size               2565\n",
      "company_type               2421\n",
      "last_new_job               2421\n",
      "training_hours             8804\n",
      "job_change                 2201\n",
      "dtype: int64\n"
     ]
    }
   ],
   "source": [
    "ds_jobs_transformed = ds_jobs_transformed[(ds_jobs_transformed['experience'] >= '10') & \n",
    "                                          (ds_jobs_transformed['company_size'].isin(['1000-4999', '5000-9999', '10000+']))]\n",
    "\n",
    "#print('.info(): ', ds_jobs.info())\n",
    "#print('.info(): ', ds_jobs_transformed.info())\n",
    "\n",
    "print('**** memory_usage: ', ds_jobs.memory_usage())\n",
    "print('** memory_usage: ', ds_jobs_transformed.memory_usage())"
   ]
  },
  {
   "cell_type": "code",
   "execution_count": 317,
   "metadata": {},
   "outputs": [
    {
     "data": {
      "text/plain": [
       "job_change\n",
       "False    1908\n",
       "True      293\n",
       "Name: count, dtype: int64"
      ]
     },
     "execution_count": 317,
     "metadata": {},
     "output_type": "execute_result"
    }
   ],
   "source": [
    "ds_jobs_transformed['job_change'].value_counts()"
   ]
  },
  {
   "cell_type": "code",
   "execution_count": 318,
   "metadata": {},
   "outputs": [
    {
     "data": {
      "text/plain": [
       "city\n",
       "city_103    805\n",
       "city_16     211\n",
       "city_114    167\n",
       "city_21     157\n",
       "city_160     72\n",
       "           ... \n",
       "city_81       0\n",
       "city_79       0\n",
       "city_82       0\n",
       "city_8        0\n",
       "city_9        0\n",
       "Name: count, Length: 123, dtype: int64"
      ]
     },
     "execution_count": 318,
     "metadata": {},
     "output_type": "execute_result"
    }
   ],
   "source": [
    "ds_jobs_transformed['city'].value_counts()"
   ]
  },
  {
   "cell_type": "code",
   "execution_count": 319,
   "metadata": {},
   "outputs": [
    {
     "data": {
      "text/plain": [
       "9              Pvt Ltd\n",
       "12             Pvt Ltd\n",
       "31             Pvt Ltd\n",
       "34             Pvt Ltd\n",
       "40       Public Sector\n",
       "             ...      \n",
       "19097          Pvt Ltd\n",
       "19101          Pvt Ltd\n",
       "19103          Pvt Ltd\n",
       "19128          Pvt Ltd\n",
       "19143          Pvt Ltd\n",
       "Name: company_type, Length: 2201, dtype: category\n",
       "Categories (6, object): ['Early Stage Startup', 'Funded Startup', 'NGO', 'Other', 'Public Sector', 'Pvt Ltd']"
      ]
     },
     "execution_count": 319,
     "metadata": {},
     "output_type": "execute_result"
    }
   ],
   "source": [
    "ds_jobs_transformed['company_type']"
   ]
  },
  {
   "cell_type": "code",
   "execution_count": 320,
   "metadata": {},
   "outputs": [
    {
     "data": {
      "text/plain": [
       "enrolled_university\n",
       "no_enrollment       1960\n",
       "Full time course     122\n",
       "Part time course     103\n",
       "Name: count, dtype: int64"
      ]
     },
     "execution_count": 320,
     "metadata": {},
     "output_type": "execute_result"
    }
   ],
   "source": [
    "ds_jobs_transformed['enrolled_university'].value_counts()"
   ]
  },
  {
   "cell_type": "code",
   "execution_count": 321,
   "metadata": {},
   "outputs": [
    {
     "data": {
      "text/plain": [
       "company_size\n",
       "10000+       1095\n",
       "1000-4999     796\n",
       "5000-9999     310\n",
       "<10             0\n",
       "100-500         0\n",
       "50-99           0\n",
       "10/49           0\n",
       "500-999         0\n",
       "Name: count, dtype: int64"
      ]
     },
     "execution_count": 321,
     "metadata": {},
     "output_type": "execute_result"
    }
   ],
   "source": [
    "ds_jobs_transformed['company_size'].value_counts()"
   ]
  },
  {
   "cell_type": "code",
   "execution_count": 322,
   "metadata": {},
   "outputs": [
    {
     "data": {
      "text/plain": [
       "last_new_job\n",
       ">4       828\n",
       "1        608\n",
       "2        347\n",
       "4        172\n",
       "3        155\n",
       "never     74\n",
       "Name: count, dtype: int64"
      ]
     },
     "execution_count": 322,
     "metadata": {},
     "output_type": "execute_result"
    }
   ],
   "source": [
    "ds_jobs_transformed['last_new_job'].value_counts()"
   ]
  },
  {
   "cell_type": "code",
   "execution_count": null,
   "metadata": {},
   "outputs": [],
   "source": []
  }
 ],
 "metadata": {
  "kernelspec": {
   "display_name": ".venv",
   "language": "python",
   "name": "python3"
  },
  "language_info": {
   "codemirror_mode": {
    "name": "ipython",
    "version": 3
   },
   "file_extension": ".py",
   "mimetype": "text/x-python",
   "name": "python",
   "nbconvert_exporter": "python",
   "pygments_lexer": "ipython3",
   "version": "3.13.0"
  }
 },
 "nbformat": 4,
 "nbformat_minor": 2
}