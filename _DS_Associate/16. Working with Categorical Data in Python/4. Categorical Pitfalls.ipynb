{
 "cells": [
  {
   "cell_type": "markdown",
   "metadata": {},
   "source": [
    "# Categorical pitfalls"
   ]
  },
  {
   "cell_type": "markdown",
   "metadata": {},
   "source": [
    "[Categorical data - pandas.pydata.org](https://pandas.pydata.org/pandas-docs/stable/user_guide/categorical.html)  \n",
    "\n",
    "[DataCamp course](https://campus.datacamp.com/courses/working-with-categorical-data-in-python/pitfalls-and-encoding)"
   ]
  },
  {
   "cell_type": "markdown",
   "metadata": {},
   "source": [
    "Memory usage knowledge check"
   ]
  },
  {
   "cell_type": "markdown",
   "metadata": {},
   "source": [
    "```py\n",
    "print(\"As object: \", used_cars[\"price_usd\"].nbytes)\n",
    "print(\"As category: \", used_cars[\"price_usd\"].astype(\"category\").nbytes)  \n",
    "As object:  308248  \n",
    "As category:  98478"
   ]
  },
  {
   "cell_type": "markdown",
   "metadata": {},
   "source": [
    "## Overcoming pitfalls: string issues"
   ]
  },
  {
   "cell_type": "markdown",
   "metadata": {},
   "source": [
    "```py\n",
    "# Print the frequency table of body_type and include NaN values\n",
    "print(used_cars[\"body_type\"].value_counts(dropna=False))\n",
    "\n",
    "# Update NaN values\n",
    "used_cars.loc[used_cars[\"body_type\"].isna(), \"body_type\"] = \"other\"\n",
    "\n",
    "# Convert body_type to title case\n",
    "used_cars[\"body_type\"] = used_cars[\"body_type\"].str.title()\n",
    "\n",
    "# Check the dtype\n",
    "print(used_cars[\"body_type\"].dtype)\n"
   ]
  },
  {
   "cell_type": "markdown",
   "metadata": {},
   "source": [
    "## Overcoming pitfalls: using NumPy arrays"
   ]
  },
  {
   "cell_type": "markdown",
   "metadata": {},
   "source": [
    "```py\n",
    "# Print the frequency table of Sale Rating\n",
    "print(used_cars[\"Sale Rating\"].value_counts())\n",
    "\n",
    "# Find the average score\n",
    "average_score = used_cars[\"Sale Rating\"].astype(int).mean()\n",
    "\n",
    "# Print the average\n",
    "print(average_score)"
   ]
  },
  {
   "cell_type": "markdown",
   "metadata": {},
   "source": [
    "# Label encoding"
   ]
  },
  {
   "cell_type": "markdown",
   "metadata": {},
   "source": [
    "## Create a label encoding and map\n",
    "1. cat.codes\n",
    "2. codes\n",
    "3. categories\n",
    "4. dict(zip(codes, categories))  \n",
    "* Creating an encoding like this can save on memory and improve performance. Reading and writing files that use codes instead of strings can save a lot of time"
   ]
  },
  {
   "cell_type": "markdown",
   "metadata": {},
   "source": [
    "```py\n",
    "# Convert to categorical and print the frequency table\n",
    "used_cars[\"color\"] = used_cars[\"color\"].astype(\"category\")\n",
    "print(used_cars[\"color\"].value_counts())\n",
    "\n",
    "# Create a label encoding\n",
    "used_cars[\"color_code\"] = used_cars[\"color\"].cat.codes\n",
    "\n",
    "# Create codes and categories objects\n",
    "codes = used_cars[\"color\"].cat.codes\n",
    "categories = used_cars[\"color\"]\n",
    "color_map = dict(zip(codes, categories))\n",
    "\n",
    "# Print the map\n",
    "print(color_map)"
   ]
  },
  {
   "cell_type": "markdown",
   "metadata": {},
   "source": [
    "## Using saved mappings"
   ]
  },
  {
   "cell_type": "markdown",
   "metadata": {},
   "source": [
    "```py\n",
    "# Update the color column using the color_map\n",
    "used_cars_updated[\"color\"] = used_cars_updated[\"color\"].map(color_map)\n",
    "# Update the engine fuel column using the fuel_map\n",
    "used_cars_updated[\"engine_fuel\"] = used_cars_updated[\"engine_fuel\"].map(fuel_map)\n",
    "# Update the transmission column using the transmission_map\n",
    "used_cars_updated[\"transmission\"] = used_cars_updated[\"transmission\"].map(transmission_map)\n",
    "\n",
    "# Print the info statement\n",
    "print(used_cars_updated.info())"
   ]
  },
  {
   "cell_type": "markdown",
   "metadata": {},
   "source": [
    "# Creating a Boolean encoding"
   ]
  },
  {
   "cell_type": "markdown",
   "metadata": {},
   "source": [
    "```py\n",
    "# Print the \"manufacturer_name\" frequency table.\n",
    "print(used_cars[\"manufacturer_name\"].value_counts())\n",
    "\n",
    "# Create a Boolean column for the most common manufacturer name\n",
    "used_cars[\"is_volkswagen\"] = np.where(\n",
    "  used_cars[\"manufacturer_name\"].str.contains(\"Volkswagen\", regex=False), 1, 0\n",
    ") # it is for `One-hot encoding with pandas`\n",
    "  \n",
    "# Check the final frequency table\n",
    "print(used_cars[\"is_volkswagen\"].value_counts())"
   ]
  },
  {
   "cell_type": "markdown",
   "metadata": {},
   "source": [
    "# One-hot encoding with pandas"
   ]
  },
  {
   "cell_type": "markdown",
   "metadata": {},
   "source": [
    "## One-hot encoding specific columns"
   ]
  },
  {
   "cell_type": "markdown",
   "metadata": {},
   "source": [
    "```py\n",
    "# Create one-hot encoding for just two columns\n",
    "used_cars_simple = pd.get_dummies(\n",
    "  used_cars,\n",
    "  # Specify the columns from the instructions\n",
    "  columns=[\"manufacturer_name\", \"transmission\"],\n",
    "  # Set the prefix\n",
    "  prefix=\"dummy\"\n",
    ")\n",
    "\n",
    "# Print the shape of the new dataset\n",
    "print(used_cars_simple.shape)"
   ]
  },
  {
   "cell_type": "markdown",
   "metadata": {},
   "source": []
  }
 ],
 "metadata": {
  "kernelspec": {
   "display_name": ".venv",
   "language": "python",
   "name": "python3"
  },
  "language_info": {
   "codemirror_mode": {
    "name": "ipython",
    "version": 3
   },
   "file_extension": ".py",
   "mimetype": "text/x-python",
   "name": "python",
   "nbconvert_exporter": "python",
   "pygments_lexer": "ipython3",
   "version": "3.13.0"
  }
 },
 "nbformat": 4,
 "nbformat_minor": 2
}