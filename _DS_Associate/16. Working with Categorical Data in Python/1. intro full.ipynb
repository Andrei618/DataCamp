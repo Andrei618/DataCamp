{
 "cells": [
  {
   "cell_type": "markdown",
   "metadata": {},
   "source": [
    "# Categorical Data in pandas"
   ]
  },
  {
   "cell_type": "code",
   "execution_count": 2,
   "metadata": {},
   "outputs": [
    {
     "name": "stdout",
     "output_type": "stream",
     "text": [
      "<class 'pandas.core.frame.DataFrame'>\n",
      "RangeIndex: 32561 entries, 0 to 32560\n",
      "Data columns (total 15 columns):\n",
      " #   Column           Non-Null Count  Dtype \n",
      "---  ------           --------------  ----- \n",
      " 0   Age              32561 non-null  int64 \n",
      " 1   workclass        32561 non-null  object\n",
      " 2   fnlwgt           32561 non-null  int64 \n",
      " 3   education        32561 non-null  object\n",
      " 4   Education Num    32561 non-null  int64 \n",
      " 5   Marital Status   32561 non-null  object\n",
      " 6   occupation       32561 non-null  object\n",
      " 7   relationship     32561 non-null  object\n",
      " 8   race             32561 non-null  object\n",
      " 9   sex              32561 non-null  object\n",
      " 10  capital.gain     32561 non-null  int64 \n",
      " 11  capital.loss     32561 non-null  int64 \n",
      " 12  hours.per.week   32561 non-null  int64 \n",
      " 13  native.country   32561 non-null  object\n",
      " 14  Above/Below 50k  32561 non-null  object\n",
      "dtypes: int64(6), object(9)\n",
      "memory usage: 3.7+ MB\n"
     ]
    }
   ],
   "source": [
    "import pandas as pd\n",
    "\n",
    "adult = pd.read_csv('data/adult.csv')\n",
    "adult.rename(columns={\n",
    "    \"marital.status\": \"Marital Status\",\n",
    "    \"income\": \"Above/Below 50k\",\n",
    "    \"age\": \"Age\",\n",
    "    \"education.num\": \"Education Num\"\n",
    "}, inplace=True)\n",
    "adult.info()"
   ]
  },
  {
   "cell_type": "code",
   "execution_count": 3,
   "metadata": {},
   "outputs": [
    {
     "data": {
      "text/plain": [
       "count                  32561\n",
       "unique                     7\n",
       "top       Married-civ-spouse\n",
       "freq                   14976\n",
       "Name: Marital Status, dtype: object"
      ]
     },
     "execution_count": 3,
     "metadata": {},
     "output_type": "execute_result"
    }
   ],
   "source": [
    "adult[\"Marital Status\"].describe()"
   ]
  },
  {
   "cell_type": "code",
   "execution_count": 4,
   "metadata": {},
   "outputs": [
    {
     "data": {
      "text/plain": [
       "Marital Status\n",
       "Married-civ-spouse       14976\n",
       "Never-married            10683\n",
       "Divorced                  4443\n",
       "Separated                 1025\n",
       "Widowed                    993\n",
       "Married-spouse-absent      418\n",
       "Married-AF-spouse           23\n",
       "Name: count, dtype: int64"
      ]
     },
     "execution_count": 4,
     "metadata": {},
     "output_type": "execute_result"
    }
   ],
   "source": [
    "adult[\"Marital Status\"].value_counts()"
   ]
  },
  {
   "cell_type": "code",
   "execution_count": 5,
   "metadata": {},
   "outputs": [
    {
     "data": {
      "text/plain": [
       "Marital Status\n",
       "Married-civ-spouse       0.459937\n",
       "Never-married            0.328092\n",
       "Divorced                 0.136452\n",
       "Separated                0.031479\n",
       "Widowed                  0.030497\n",
       "Married-spouse-absent    0.012837\n",
       "Married-AF-spouse        0.000706\n",
       "Name: proportion, dtype: float64"
      ]
     },
     "execution_count": 5,
     "metadata": {},
     "output_type": "execute_result"
    }
   ],
   "source": [
    "adult[\"Marital Status\"].value_counts(normalize=True)"
   ]
  },
  {
   "cell_type": "code",
   "execution_count": 6,
   "metadata": {},
   "outputs": [
    {
     "data": {
      "text/plain": [
       "Age                 int64\n",
       "workclass          object\n",
       "fnlwgt              int64\n",
       "education          object\n",
       "Education Num       int64\n",
       "Marital Status     object\n",
       "occupation         object\n",
       "relationship       object\n",
       "race               object\n",
       "sex                object\n",
       "capital.gain        int64\n",
       "capital.loss        int64\n",
       "hours.per.week      int64\n",
       "native.country     object\n",
       "Above/Below 50k    object\n",
       "dtype: object"
      ]
     },
     "execution_count": 6,
     "metadata": {},
     "output_type": "execute_result"
    }
   ],
   "source": [
    "adult.dtypes"
   ]
  },
  {
   "cell_type": "markdown",
   "metadata": {},
   "source": [
    "We use the `dtype` property, as opposed to the `dtypes` property,   \n",
    "since we are working with a **Series** and not a DataFrame.   \n",
    "Pandas uses a capital O to represent the object dtype."
   ]
  },
  {
   "cell_type": "code",
   "execution_count": 7,
   "metadata": {},
   "outputs": [
    {
     "data": {
      "text/plain": [
       "dtype('O')"
      ]
     },
     "execution_count": 7,
     "metadata": {},
     "output_type": "execute_result"
    }
   ],
   "source": [
    "adult[\"Marital Status\"].dtype"
   ]
  },
  {
   "cell_type": "markdown",
   "metadata": {},
   "source": [
    "## Convert to category type"
   ]
  },
  {
   "cell_type": "code",
   "execution_count": 8,
   "metadata": {},
   "outputs": [],
   "source": [
    "adult['Marital Status'] = adult['Marital Status'].astype('category')"
   ]
  },
  {
   "cell_type": "code",
   "execution_count": 9,
   "metadata": {},
   "outputs": [
    {
     "data": {
      "text/plain": [
       "CategoricalDtype(categories=['Divorced', 'Married-AF-spouse', 'Married-civ-spouse',\n",
       "                  'Married-spouse-absent', 'Never-married', 'Separated',\n",
       "                  'Widowed'],\n",
       ", ordered=False, categories_dtype=object)"
      ]
     },
     "execution_count": 9,
     "metadata": {},
     "output_type": "execute_result"
    }
   ],
   "source": [
    "adult['Marital Status'].dtype"
   ]
  },
  {
   "cell_type": "markdown",
   "metadata": {},
   "source": [
    "## Creating a categorical Series"
   ]
  },
  {
   "cell_type": "markdown",
   "metadata": {},
   "source": [
    "1. Way - **Creating a categorical Series** `pd.Series`  \n",
    "   We can use pd-dot-series on a list or array of data and set the dtype argument to category."
   ]
  },
  {
   "cell_type": "code",
   "execution_count": 10,
   "metadata": {},
   "outputs": [
    {
     "name": "stdout",
     "output_type": "stream",
     "text": [
      "0    A\n",
      "1    A\n",
      "2    C\n",
      "3    B\n",
      "4    C\n",
      "5    A\n",
      "dtype: category\n",
      "Categories (3, object): ['A', 'B', 'C']\n"
     ]
    }
   ],
   "source": [
    "my_data = [\"A\", \"A\", \"C\", \"B\", \"C\", \"A\"]\n",
    "my_series1 = pd.Series(my_data, dtype=\"category\")\n",
    "print(my_series1)\n",
    "# ??? print(adult[\"Marital Status\"].dtype)"
   ]
  },
  {
   "cell_type": "markdown",
   "metadata": {},
   "source": [
    "2. Way - with `pd.Categorical`  \n",
    "   We are showing this alternative way because it allows us to tell pandas that the categories have a `logical order` by setting the ordered argument equal to true.   \n",
    "   The order is set by using the categories parameter. Whichever order you list the categories in will be the order of the categories going forward.   \n",
    "   >Notice that the print out states that the order is C, then B, then A, which matches the order we used when creating the categorical Series.\n",
    "   "
   ]
  },
  {
   "cell_type": "code",
   "execution_count": 11,
   "metadata": {},
   "outputs": [
    {
     "data": {
      "text/plain": [
       "['A', 'A', 'C', 'B', 'C', 'A']\n",
       "Categories (3, object): ['C' < 'B' < 'A']"
      ]
     },
     "execution_count": 11,
     "metadata": {},
     "output_type": "execute_result"
    }
   ],
   "source": [
    "my_data = [\"A\", \"A\", \"C\", \"B\", \"C\", \"A\"]\n",
    "my_series2 = pd.Categorical(my_data, categories=[\"C\", \"B\", \"A\"], ordered=True)\n",
    "my_series2"
   ]
  },
  {
   "cell_type": "markdown",
   "metadata": {},
   "source": [
    "### Why do we use categorical: memory\n",
    "Memory saver: (as an object - much more memory than as a categorical)"
   ]
  },
  {
   "cell_type": "code",
   "execution_count": 12,
   "metadata": {},
   "outputs": [
    {
     "data": {
      "text/plain": [
       "32617"
      ]
     },
     "execution_count": 12,
     "metadata": {},
     "output_type": "execute_result"
    }
   ],
   "source": [
    "adult[\"Marital Status\"].nbytes"
   ]
  },
  {
   "cell_type": "markdown",
   "metadata": {},
   "source": [
    "## Specify dtypes when reading data"
   ]
  },
  {
   "cell_type": "code",
   "execution_count": 13,
   "metadata": {},
   "outputs": [
    {
     "data": {
      "text/plain": [
       "'\\n# 1. Create a dictionary:\\nadult_dtypes = {\"marital.status\": \"category\"}\\n\\n# 2. Set the dtype parameter:\\nadult = pd.read_csv(\"data/adult.csv\", dtype=adult_dtypes)\\n\\n# 3. Check the dtype :\\nadult[\"marital.status\"].dtype\\n'"
      ]
     },
     "execution_count": 13,
     "metadata": {},
     "output_type": "execute_result"
    }
   ],
   "source": [
    "\"\"\"\n",
    "# 1. Create a dictionary:\n",
    "adult_dtypes = {\"marital.status\": \"category\"}\n",
    "\n",
    "# 2. Set the dtype parameter:\n",
    "adult = pd.read_csv(\"data/adult.csv\", dtype=adult_dtypes)\n",
    "\n",
    "# 3. Check the dtype :\n",
    "adult[\"marital.status\"].dtype\n",
    "\"\"\""
   ]
  },
  {
   "cell_type": "code",
   "execution_count": 14,
   "metadata": {},
   "outputs": [
    {
     "data": {
      "text/plain": [
       "'\\ndtypes = {\\n    \"marital.status\": \"category\",\\n    \"age\": \"int64\",\\n    \"income\": \"object\",  # Read income as object (string)\\n    \"education\": \"category\"\\n}\\n\\n# Read the CSV file with specified data types for the columns\\ndf = pd.read_csv(\\'data/adult.csv\\', dtype=dtypes)\\n\\n# Process the income column to convert it to a categorical type\\ndf[\\'income\\'] = df[\\'income\\'].astype(\\'category\\')\\n'"
      ]
     },
     "execution_count": 14,
     "metadata": {},
     "output_type": "execute_result"
    }
   ],
   "source": [
    "# Define the data types for multiple columns\n",
    "\"\"\"\n",
    "dtypes = {\n",
    "    \"marital.status\": \"category\",\n",
    "    \"age\": \"int64\",\n",
    "    \"income\": \"object\",  # Read income as object (string)\n",
    "    \"education\": \"category\"\n",
    "}\n",
    "\n",
    "# Read the CSV file with specified data types for the columns\n",
    "df = pd.read_csv('data/adult.csv', dtype=dtypes)\n",
    "\n",
    "# Process the income column to convert it to a categorical type\n",
    "df['income'] = df['income'].astype('category')\n",
    "\"\"\""
   ]
  },
  {
   "cell_type": "markdown",
   "metadata": {},
   "source": [
    "## Grouping data by category in pandas"
   ]
  },
  {
   "cell_type": "markdown",
   "metadata": {},
   "source": [
    "### The basics of .groupby(): splitting data"
   ]
  },
  {
   "cell_type": "code",
   "execution_count": 15,
   "metadata": {},
   "outputs": [
    {
     "name": "stdout",
     "output_type": "stream",
     "text": [
      "Index(['Age', 'workclass', 'fnlwgt', 'education', 'Education Num',\n",
      "       'Marital Status', 'occupation', 'relationship', 'race', 'sex',\n",
      "       'capital.gain', 'capital.loss', 'hours.per.week', 'native.country',\n",
      "       'Above/Below 50k'],\n",
      "      dtype='object')\n",
      "Above/Below 50k\n",
      "<=50K    24720\n",
      ">50K      7841\n",
      "dtype: int64\n"
     ]
    }
   ],
   "source": [
    "# Check the column names to confirm the correct column name\n",
    "print(adult.columns)\n",
    "\n",
    "# Group by the correct column name\n",
    "groupby_object = adult.groupby(by=[\"Above/Below 50k\"]).size()\n",
    "print(groupby_object)"
   ]
  },
  {
   "cell_type": "markdown",
   "metadata": {},
   "source": [
    "## The basics of .groupby(): apply a function"
   ]
  },
  {
   "cell_type": "markdown",
   "metadata": {},
   "source": [
    "The `TypeError` occurs because the mean function is being applied to columns with `non-numeric` data types. To fix this, you need to ensure that only numeric columns are included when calculating the mean.\n",
    "\n",
    "Here's how you can modify your code to handle this:\n",
    "\n",
    "1. Select only the numeric columns from the DataFrame.\n",
    "2. Apply the groupby and mean functions to these numeric columns."
   ]
  },
  {
   "cell_type": "code",
   "execution_count": 16,
   "metadata": {},
   "outputs": [
    {
     "name": "stdout",
     "output_type": "stream",
     "text": [
      "                       Age        fnlwgt  Education Num  capital.gain  \\\n",
      "Above/Below 50k                                                         \n",
      "<=50K            36.783738  190340.86517       9.595065    148.752468   \n",
      ">50K             44.249841  188005.00000      11.611657   4006.142456   \n",
      "\n",
      "                 capital.loss  hours.per.week  \n",
      "Above/Below 50k                                \n",
      "<=50K               53.142921       38.840210  \n",
      ">50K               195.001530       45.473026  \n"
     ]
    }
   ],
   "source": [
    "#groupby_object = adult.groupby(by=[\"Above/Below 50k\"])\n",
    "#groupby_object.mean()\n",
    "\n",
    "#adult.groupby(by=[\"Above/Below 50k\"]).mean()\n",
    "\n",
    "# Select only numeric columns\n",
    "numeric_columns = adult.select_dtypes(include=['number'])\n",
    "\n",
    "# Combine the numeric columns with the grouping column\n",
    "adult_numeric = adult[[\"Above/Below 50k\"]].join(numeric_columns)\n",
    "\n",
    "# Group by the specified column and calculate the mean\n",
    "groupby_object = adult_numeric.groupby(by=[\"Above/Below 50k\"]).mean()\n",
    "\n",
    "print(groupby_object)"
   ]
  },
  {
   "cell_type": "markdown",
   "metadata": {},
   "source": [
    "## Specifying columns"
   ]
  },
  {
   "cell_type": "markdown",
   "metadata": {},
   "source": [
    "Option 1: only runs .sum() on two columns."
   ]
  },
  {
   "cell_type": "code",
   "execution_count": 17,
   "metadata": {},
   "outputs": [
    {
     "data": {
      "text/html": [
       "<div>\n",
       "<style scoped>\n",
       "    .dataframe tbody tr th:only-of-type {\n",
       "        vertical-align: middle;\n",
       "    }\n",
       "\n",
       "    .dataframe tbody tr th {\n",
       "        vertical-align: top;\n",
       "    }\n",
       "\n",
       "    .dataframe thead th {\n",
       "        text-align: right;\n",
       "    }\n",
       "</style>\n",
       "<table border=\"1\" class=\"dataframe\">\n",
       "  <thead>\n",
       "    <tr style=\"text-align: right;\">\n",
       "      <th></th>\n",
       "      <th>Age</th>\n",
       "      <th>Education Num</th>\n",
       "    </tr>\n",
       "    <tr>\n",
       "      <th>Above/Below 50k</th>\n",
       "      <th></th>\n",
       "      <th></th>\n",
       "    </tr>\n",
       "  </thead>\n",
       "  <tbody>\n",
       "    <tr>\n",
       "      <th>&lt;=50K</th>\n",
       "      <td>909294</td>\n",
       "      <td>237190</td>\n",
       "    </tr>\n",
       "    <tr>\n",
       "      <th>&gt;50K</th>\n",
       "      <td>346963</td>\n",
       "      <td>91047</td>\n",
       "    </tr>\n",
       "  </tbody>\n",
       "</table>\n",
       "</div>"
      ],
      "text/plain": [
       "                    Age  Education Num\n",
       "Above/Below 50k                       \n",
       "<=50K            909294         237190\n",
       ">50K             346963          91047"
      ]
     },
     "execution_count": 17,
     "metadata": {},
     "output_type": "execute_result"
    }
   ],
   "source": [
    "adult.groupby(by=[\"Above/Below 50k\"])[['Age', 'Education Num']].sum()"
   ]
  },
  {
   "cell_type": "markdown",
   "metadata": {},
   "source": [
    "Option 2: runs .sum() on all numeric columns and then subsets."
   ]
  },
  {
   "cell_type": "code",
   "execution_count": 18,
   "metadata": {},
   "outputs": [
    {
     "name": "stdout",
     "output_type": "stream",
     "text": [
      "                    Age  Education Num\n",
      "Above/Below 50k                       \n",
      "<=50K            909294         237190\n",
      ">50K             346963          91047\n"
     ]
    }
   ],
   "source": [
    "#adult.groupby(by=[\"Above/Below 50k\"]).sum()[['Age', 'Education Num']]\n",
    "\n",
    "# Select only numeric columns\n",
    "numeric_columns = adult.select_dtypes(include=['number'])\n",
    "\n",
    "# Combine the numeric columns with the grouping column\n",
    "adult_numeric = adult[[\"Above/Below 50k\"]].join(numeric_columns)\n",
    "\n",
    "# Group by the specified column and calculate the sum\n",
    "groupby_object = adult_numeric.groupby(by=[\"Above/Below 50k\"]).sum()\n",
    "\n",
    "# Select the desired columns\n",
    "result = groupby_object[['Age', 'Education Num']]\n",
    "\n",
    "print(result)"
   ]
  },
  {
   "cell_type": "code",
   "execution_count": 19,
   "metadata": {},
   "outputs": [
    {
     "name": "stdout",
     "output_type": "stream",
     "text": [
      "                    Age  Education Num\n",
      "Above/Below 50k                       \n",
      "<=50K            909294         237190\n",
      ">50K             346963          91047\n"
     ]
    }
   ],
   "source": [
    "# Convert categorical to numeric if possible\n",
    "adult['Age'] = pd.to_numeric(adult['Age'], errors='coerce')\n",
    "adult['Education Num'] = pd.to_numeric(adult['Education Num'], errors='coerce')\n",
    "\n",
    "# Then perform the groupby\n",
    "result = adult.groupby(by=[\"Above/Below 50k\"])[['Age', 'Education Num']].sum()\n",
    "print(result)"
   ]
  },
  {
   "cell_type": "markdown",
   "metadata": {},
   "source": [
    "Option 1 is preferred - especially when using large datasets"
   ]
  },
  {
   "cell_type": "markdown",
   "metadata": {},
   "source": [
    "## Groupby multiple columns"
   ]
  },
  {
   "cell_type": "code",
   "execution_count": 20,
   "metadata": {},
   "outputs": [
    {
     "name": "stderr",
     "output_type": "stream",
     "text": [
      "C:\\Users\\kurba\\AppData\\Local\\Temp\\ipykernel_25300\\3532837120.py:1: FutureWarning: The default of observed=False is deprecated and will be changed to True in a future version of pandas. Pass observed=False to retain current behavior or observed=True to adopt the future default and silence this warning.\n",
      "  adult.groupby(by=[\"Above/Below 50k\", \"Marital Status\"]).size()\n"
     ]
    },
    {
     "data": {
      "text/plain": [
       "Above/Below 50k  Marital Status       \n",
       "<=50K            Divorced                  3980\n",
       "                 Married-AF-spouse           13\n",
       "                 Married-civ-spouse        8284\n",
       "                 Married-spouse-absent      384\n",
       "                 Never-married            10192\n",
       "                 Separated                  959\n",
       "                 Widowed                    908\n",
       ">50K             Divorced                   463\n",
       "                 Married-AF-spouse           10\n",
       "                 Married-civ-spouse        6692\n",
       "                 Married-spouse-absent       34\n",
       "                 Never-married              491\n",
       "                 Separated                   66\n",
       "                 Widowed                     85\n",
       "dtype: int64"
      ]
     },
     "execution_count": 20,
     "metadata": {},
     "output_type": "execute_result"
    }
   ],
   "source": [
    "adult.groupby(by=[\"Above/Below 50k\", \"Marital Status\"]).size()"
   ]
  },
  {
   "cell_type": "code",
   "execution_count": null,
   "metadata": {},
   "outputs": [],
   "source": []
  }
 ],
 "metadata": {
  "kernelspec": {
   "display_name": ".venv",
   "language": "python",
   "name": "python3"
  },
  "language_info": {
   "codemirror_mode": {
    "name": "ipython",
    "version": 3
   },
   "file_extension": ".py",
   "mimetype": "text/x-python",
   "name": "python",
   "nbconvert_exporter": "python",
   "pygments_lexer": "ipython3",
   "version": "3.13.0"
  }
 },
 "nbformat": 4,
 "nbformat_minor": 2
}